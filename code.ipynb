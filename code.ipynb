{
 "cells": [
  {
   "cell_type": "markdown",
   "metadata": {},
   "source": [
    "# viagogo case study: code"
   ]
  },
  {
   "cell_type": "code",
   "execution_count": 117,
   "metadata": {},
   "outputs": [],
   "source": [
    "import pandas as pd\n",
    "import numpy as np\n",
    "import seaborn as sns\n",
    "from scipy import stats\n",
    "from operator import itemgetter"
   ]
  },
  {
   "cell_type": "markdown",
   "metadata": {},
   "source": [
    "## import data to pandas dataframe"
   ]
  },
  {
   "cell_type": "code",
   "execution_count": 118,
   "metadata": {},
   "outputs": [],
   "source": [
    "df = pd.read_csv('data.csv')"
   ]
  },
  {
   "cell_type": "markdown",
   "metadata": {},
   "source": [
    "## reformat data"
   ]
  },
  {
   "cell_type": "markdown",
   "metadata": {},
   "source": [
    "### convert single channel col to multiple boolean cols"
   ]
  },
  {
   "cell_type": "code",
   "execution_count": 119,
   "metadata": {},
   "outputs": [
    {
     "data": {
      "text/plain": [
       "['Affiliate', 'Direct', 'Email', 'Paid Search', 'SEO', 'Social Media']"
      ]
     },
     "execution_count": 119,
     "metadata": {},
     "output_type": "execute_result"
    }
   ],
   "source": [
    "channels = list(df['Channel'].unique())\n",
    "channels"
   ]
  },
  {
   "cell_type": "code",
   "execution_count": 120,
   "metadata": {},
   "outputs": [
    {
     "name": "stderr",
     "output_type": "stream",
     "text": [
      "/anaconda3/lib/python3.7/site-packages/ipykernel_launcher.py:7: SettingWithCopyWarning: \n",
      "A value is trying to be set on a copy of a slice from a DataFrame\n",
      "\n",
      "See the caveats in the documentation: http://pandas.pydata.org/pandas-docs/stable/user_guide/indexing.html#returning-a-view-versus-a-copy\n",
      "  import sys\n"
     ]
    }
   ],
   "source": [
    "for channel in df['Channel'].unique():\n",
    "    \n",
    "    df[channel] = df['Channel'].copy()\n",
    "    \n",
    "    for index in df.index:\n",
    "        \n",
    "        df[channel][index] = (df['Channel'][index] == channel)*1\n",
    "        \n",
    "    df[channel] = df[channel].astype('int64')\n",
    "\n",
    "df = df.drop(columns = ['Channel'])"
   ]
  },
  {
   "cell_type": "markdown",
   "metadata": {},
   "source": [
    "### convert usertype to boolean"
   ]
  },
  {
   "cell_type": "code",
   "execution_count": 121,
   "metadata": {},
   "outputs": [
    {
     "name": "stderr",
     "output_type": "stream",
     "text": [
      "/anaconda3/lib/python3.7/site-packages/ipykernel_launcher.py:5: SettingWithCopyWarning: \n",
      "A value is trying to be set on a copy of a slice from a DataFrame\n",
      "\n",
      "See the caveats in the documentation: http://pandas.pydata.org/pandas-docs/stable/user_guide/indexing.html#returning-a-view-versus-a-copy\n",
      "  \"\"\"\n"
     ]
    }
   ],
   "source": [
    "df['new_user'] = df['User Type'].copy()\n",
    "\n",
    "for index in df.index:\n",
    "    \n",
    "    df['new_user'][index] = (df['User Type'][index] == 'New User')*1\n",
    "    \n",
    "df['new_user'] = df['new_user'].astype('int64')\n",
    "    \n",
    "df = df.drop(columns=['User Type'])"
   ]
  },
  {
   "cell_type": "markdown",
   "metadata": {},
   "source": [
    "### view updated data"
   ]
  },
  {
   "cell_type": "code",
   "execution_count": 122,
   "metadata": {},
   "outputs": [
    {
     "data": {
      "text/html": [
       "<div>\n",
       "<style scoped>\n",
       "    .dataframe tbody tr th:only-of-type {\n",
       "        vertical-align: middle;\n",
       "    }\n",
       "\n",
       "    .dataframe tbody tr th {\n",
       "        vertical-align: top;\n",
       "    }\n",
       "\n",
       "    .dataframe thead th {\n",
       "        text-align: right;\n",
       "    }\n",
       "</style>\n",
       "<table border=\"1\" class=\"dataframe\">\n",
       "  <thead>\n",
       "    <tr style=\"text-align: right;\">\n",
       "      <th></th>\n",
       "      <th>Date</th>\n",
       "      <th>Land</th>\n",
       "      <th>Bounce</th>\n",
       "      <th>Purchase</th>\n",
       "      <th>Visitors_Control</th>\n",
       "      <th>Visitors_Variant</th>\n",
       "      <th>Affiliate</th>\n",
       "      <th>Direct</th>\n",
       "      <th>Email</th>\n",
       "      <th>Paid Search</th>\n",
       "      <th>SEO</th>\n",
       "      <th>Social Media</th>\n",
       "      <th>new_user</th>\n",
       "    </tr>\n",
       "  </thead>\n",
       "  <tbody>\n",
       "    <tr>\n",
       "      <th>0</th>\n",
       "      <td>2014-10-10</td>\n",
       "      <td>0</td>\n",
       "      <td>0</td>\n",
       "      <td>0</td>\n",
       "      <td>1211</td>\n",
       "      <td>1175</td>\n",
       "      <td>1</td>\n",
       "      <td>0</td>\n",
       "      <td>0</td>\n",
       "      <td>0</td>\n",
       "      <td>0</td>\n",
       "      <td>0</td>\n",
       "      <td>0</td>\n",
       "    </tr>\n",
       "    <tr>\n",
       "      <th>1</th>\n",
       "      <td>2014-10-10</td>\n",
       "      <td>1</td>\n",
       "      <td>0</td>\n",
       "      <td>0</td>\n",
       "      <td>4076</td>\n",
       "      <td>4810</td>\n",
       "      <td>1</td>\n",
       "      <td>0</td>\n",
       "      <td>0</td>\n",
       "      <td>0</td>\n",
       "      <td>0</td>\n",
       "      <td>0</td>\n",
       "      <td>0</td>\n",
       "    </tr>\n",
       "    <tr>\n",
       "      <th>2</th>\n",
       "      <td>2014-10-10</td>\n",
       "      <td>1</td>\n",
       "      <td>1</td>\n",
       "      <td>0</td>\n",
       "      <td>2766</td>\n",
       "      <td>3386</td>\n",
       "      <td>1</td>\n",
       "      <td>0</td>\n",
       "      <td>0</td>\n",
       "      <td>0</td>\n",
       "      <td>0</td>\n",
       "      <td>0</td>\n",
       "      <td>0</td>\n",
       "    </tr>\n",
       "    <tr>\n",
       "      <th>3</th>\n",
       "      <td>2014-10-10</td>\n",
       "      <td>0</td>\n",
       "      <td>0</td>\n",
       "      <td>1</td>\n",
       "      <td>196</td>\n",
       "      <td>159</td>\n",
       "      <td>1</td>\n",
       "      <td>0</td>\n",
       "      <td>0</td>\n",
       "      <td>0</td>\n",
       "      <td>0</td>\n",
       "      <td>0</td>\n",
       "      <td>0</td>\n",
       "    </tr>\n",
       "    <tr>\n",
       "      <th>4</th>\n",
       "      <td>2014-10-10</td>\n",
       "      <td>1</td>\n",
       "      <td>0</td>\n",
       "      <td>1</td>\n",
       "      <td>358</td>\n",
       "      <td>332</td>\n",
       "      <td>1</td>\n",
       "      <td>0</td>\n",
       "      <td>0</td>\n",
       "      <td>0</td>\n",
       "      <td>0</td>\n",
       "      <td>0</td>\n",
       "      <td>0</td>\n",
       "    </tr>\n",
       "    <tr>\n",
       "      <th>...</th>\n",
       "      <td>...</td>\n",
       "      <td>...</td>\n",
       "      <td>...</td>\n",
       "      <td>...</td>\n",
       "      <td>...</td>\n",
       "      <td>...</td>\n",
       "      <td>...</td>\n",
       "      <td>...</td>\n",
       "      <td>...</td>\n",
       "      <td>...</td>\n",
       "      <td>...</td>\n",
       "      <td>...</td>\n",
       "      <td>...</td>\n",
       "    </tr>\n",
       "    <tr>\n",
       "      <th>1255</th>\n",
       "      <td>2014-10-30</td>\n",
       "      <td>0</td>\n",
       "      <td>0</td>\n",
       "      <td>0</td>\n",
       "      <td>492</td>\n",
       "      <td>469</td>\n",
       "      <td>0</td>\n",
       "      <td>0</td>\n",
       "      <td>0</td>\n",
       "      <td>0</td>\n",
       "      <td>0</td>\n",
       "      <td>1</td>\n",
       "      <td>1</td>\n",
       "    </tr>\n",
       "    <tr>\n",
       "      <th>1256</th>\n",
       "      <td>2014-10-30</td>\n",
       "      <td>1</td>\n",
       "      <td>0</td>\n",
       "      <td>0</td>\n",
       "      <td>1640</td>\n",
       "      <td>1816</td>\n",
       "      <td>0</td>\n",
       "      <td>0</td>\n",
       "      <td>0</td>\n",
       "      <td>0</td>\n",
       "      <td>0</td>\n",
       "      <td>1</td>\n",
       "      <td>1</td>\n",
       "    </tr>\n",
       "    <tr>\n",
       "      <th>1257</th>\n",
       "      <td>2014-10-30</td>\n",
       "      <td>1</td>\n",
       "      <td>1</td>\n",
       "      <td>0</td>\n",
       "      <td>1466</td>\n",
       "      <td>1226</td>\n",
       "      <td>0</td>\n",
       "      <td>0</td>\n",
       "      <td>0</td>\n",
       "      <td>0</td>\n",
       "      <td>0</td>\n",
       "      <td>1</td>\n",
       "      <td>1</td>\n",
       "    </tr>\n",
       "    <tr>\n",
       "      <th>1258</th>\n",
       "      <td>2014-10-30</td>\n",
       "      <td>0</td>\n",
       "      <td>0</td>\n",
       "      <td>1</td>\n",
       "      <td>47</td>\n",
       "      <td>49</td>\n",
       "      <td>0</td>\n",
       "      <td>0</td>\n",
       "      <td>0</td>\n",
       "      <td>0</td>\n",
       "      <td>0</td>\n",
       "      <td>1</td>\n",
       "      <td>1</td>\n",
       "    </tr>\n",
       "    <tr>\n",
       "      <th>1259</th>\n",
       "      <td>2014-10-30</td>\n",
       "      <td>1</td>\n",
       "      <td>0</td>\n",
       "      <td>1</td>\n",
       "      <td>185</td>\n",
       "      <td>199</td>\n",
       "      <td>0</td>\n",
       "      <td>0</td>\n",
       "      <td>0</td>\n",
       "      <td>0</td>\n",
       "      <td>0</td>\n",
       "      <td>1</td>\n",
       "      <td>1</td>\n",
       "    </tr>\n",
       "  </tbody>\n",
       "</table>\n",
       "<p>1260 rows × 13 columns</p>\n",
       "</div>"
      ],
      "text/plain": [
       "            Date  Land  Bounce  Purchase  Visitors_Control  Visitors_Variant  \\\n",
       "0     2014-10-10     0       0         0              1211              1175   \n",
       "1     2014-10-10     1       0         0              4076              4810   \n",
       "2     2014-10-10     1       1         0              2766              3386   \n",
       "3     2014-10-10     0       0         1               196               159   \n",
       "4     2014-10-10     1       0         1               358               332   \n",
       "...          ...   ...     ...       ...               ...               ...   \n",
       "1255  2014-10-30     0       0         0               492               469   \n",
       "1256  2014-10-30     1       0         0              1640              1816   \n",
       "1257  2014-10-30     1       1         0              1466              1226   \n",
       "1258  2014-10-30     0       0         1                47                49   \n",
       "1259  2014-10-30     1       0         1               185               199   \n",
       "\n",
       "      Affiliate  Direct  Email  Paid Search  SEO  Social Media  new_user  \n",
       "0             1       0      0            0    0             0         0  \n",
       "1             1       0      0            0    0             0         0  \n",
       "2             1       0      0            0    0             0         0  \n",
       "3             1       0      0            0    0             0         0  \n",
       "4             1       0      0            0    0             0         0  \n",
       "...         ...     ...    ...          ...  ...           ...       ...  \n",
       "1255          0       0      0            0    0             1         1  \n",
       "1256          0       0      0            0    0             1         1  \n",
       "1257          0       0      0            0    0             1         1  \n",
       "1258          0       0      0            0    0             1         1  \n",
       "1259          0       0      0            0    0             1         1  \n",
       "\n",
       "[1260 rows x 13 columns]"
      ]
     },
     "execution_count": 122,
     "metadata": {},
     "output_type": "execute_result"
    }
   ],
   "source": [
    "df"
   ]
  },
  {
   "cell_type": "code",
   "execution_count": 7,
   "metadata": {},
   "outputs": [
    {
     "data": {
      "text/html": [
       "<div>\n",
       "<style scoped>\n",
       "    .dataframe tbody tr th:only-of-type {\n",
       "        vertical-align: middle;\n",
       "    }\n",
       "\n",
       "    .dataframe tbody tr th {\n",
       "        vertical-align: top;\n",
       "    }\n",
       "\n",
       "    .dataframe thead th {\n",
       "        text-align: right;\n",
       "    }\n",
       "</style>\n",
       "<table border=\"1\" class=\"dataframe\">\n",
       "  <thead>\n",
       "    <tr style=\"text-align: right;\">\n",
       "      <th></th>\n",
       "      <th>Land</th>\n",
       "      <th>Bounce</th>\n",
       "      <th>Purchase</th>\n",
       "      <th>Visitors_Control</th>\n",
       "      <th>Visitors_Variant</th>\n",
       "      <th>Affiliate</th>\n",
       "      <th>Direct</th>\n",
       "      <th>Email</th>\n",
       "      <th>Paid Search</th>\n",
       "      <th>SEO</th>\n",
       "      <th>Social Media</th>\n",
       "      <th>new_user</th>\n",
       "    </tr>\n",
       "  </thead>\n",
       "  <tbody>\n",
       "    <tr>\n",
       "      <th>count</th>\n",
       "      <td>1260.000000</td>\n",
       "      <td>1260.000000</td>\n",
       "      <td>1260.000000</td>\n",
       "      <td>1260.000000</td>\n",
       "      <td>1260.000000</td>\n",
       "      <td>1260.000000</td>\n",
       "      <td>1260.000000</td>\n",
       "      <td>1260.000000</td>\n",
       "      <td>1260.000000</td>\n",
       "      <td>1260.000000</td>\n",
       "      <td>1260.000000</td>\n",
       "      <td>1260.000000</td>\n",
       "    </tr>\n",
       "    <tr>\n",
       "      <th>mean</th>\n",
       "      <td>0.600000</td>\n",
       "      <td>0.200000</td>\n",
       "      <td>0.400000</td>\n",
       "      <td>2378.045238</td>\n",
       "      <td>2417.343651</td>\n",
       "      <td>0.166667</td>\n",
       "      <td>0.166667</td>\n",
       "      <td>0.166667</td>\n",
       "      <td>0.166667</td>\n",
       "      <td>0.166667</td>\n",
       "      <td>0.166667</td>\n",
       "      <td>0.500000</td>\n",
       "    </tr>\n",
       "    <tr>\n",
       "      <th>std</th>\n",
       "      <td>0.490092</td>\n",
       "      <td>0.400159</td>\n",
       "      <td>0.490092</td>\n",
       "      <td>3218.435287</td>\n",
       "      <td>3270.830372</td>\n",
       "      <td>0.372826</td>\n",
       "      <td>0.372826</td>\n",
       "      <td>0.372826</td>\n",
       "      <td>0.372826</td>\n",
       "      <td>0.372826</td>\n",
       "      <td>0.372826</td>\n",
       "      <td>0.500199</td>\n",
       "    </tr>\n",
       "    <tr>\n",
       "      <th>min</th>\n",
       "      <td>0.000000</td>\n",
       "      <td>0.000000</td>\n",
       "      <td>0.000000</td>\n",
       "      <td>30.000000</td>\n",
       "      <td>25.000000</td>\n",
       "      <td>0.000000</td>\n",
       "      <td>0.000000</td>\n",
       "      <td>0.000000</td>\n",
       "      <td>0.000000</td>\n",
       "      <td>0.000000</td>\n",
       "      <td>0.000000</td>\n",
       "      <td>0.000000</td>\n",
       "    </tr>\n",
       "    <tr>\n",
       "      <th>25%</th>\n",
       "      <td>0.000000</td>\n",
       "      <td>0.000000</td>\n",
       "      <td>0.000000</td>\n",
       "      <td>265.500000</td>\n",
       "      <td>260.250000</td>\n",
       "      <td>0.000000</td>\n",
       "      <td>0.000000</td>\n",
       "      <td>0.000000</td>\n",
       "      <td>0.000000</td>\n",
       "      <td>0.000000</td>\n",
       "      <td>0.000000</td>\n",
       "      <td>0.000000</td>\n",
       "    </tr>\n",
       "    <tr>\n",
       "      <th>50%</th>\n",
       "      <td>1.000000</td>\n",
       "      <td>0.000000</td>\n",
       "      <td>0.000000</td>\n",
       "      <td>1091.500000</td>\n",
       "      <td>1070.000000</td>\n",
       "      <td>0.000000</td>\n",
       "      <td>0.000000</td>\n",
       "      <td>0.000000</td>\n",
       "      <td>0.000000</td>\n",
       "      <td>0.000000</td>\n",
       "      <td>0.000000</td>\n",
       "      <td>0.500000</td>\n",
       "    </tr>\n",
       "    <tr>\n",
       "      <th>75%</th>\n",
       "      <td>1.000000</td>\n",
       "      <td>0.000000</td>\n",
       "      <td>1.000000</td>\n",
       "      <td>2993.750000</td>\n",
       "      <td>2995.500000</td>\n",
       "      <td>0.000000</td>\n",
       "      <td>0.000000</td>\n",
       "      <td>0.000000</td>\n",
       "      <td>0.000000</td>\n",
       "      <td>0.000000</td>\n",
       "      <td>0.000000</td>\n",
       "      <td>1.000000</td>\n",
       "    </tr>\n",
       "    <tr>\n",
       "      <th>max</th>\n",
       "      <td>1.000000</td>\n",
       "      <td>1.000000</td>\n",
       "      <td>1.000000</td>\n",
       "      <td>19938.000000</td>\n",
       "      <td>19045.000000</td>\n",
       "      <td>1.000000</td>\n",
       "      <td>1.000000</td>\n",
       "      <td>1.000000</td>\n",
       "      <td>1.000000</td>\n",
       "      <td>1.000000</td>\n",
       "      <td>1.000000</td>\n",
       "      <td>1.000000</td>\n",
       "    </tr>\n",
       "  </tbody>\n",
       "</table>\n",
       "</div>"
      ],
      "text/plain": [
       "              Land       Bounce     Purchase  Visitors_Control  \\\n",
       "count  1260.000000  1260.000000  1260.000000       1260.000000   \n",
       "mean      0.600000     0.200000     0.400000       2378.045238   \n",
       "std       0.490092     0.400159     0.490092       3218.435287   \n",
       "min       0.000000     0.000000     0.000000         30.000000   \n",
       "25%       0.000000     0.000000     0.000000        265.500000   \n",
       "50%       1.000000     0.000000     0.000000       1091.500000   \n",
       "75%       1.000000     0.000000     1.000000       2993.750000   \n",
       "max       1.000000     1.000000     1.000000      19938.000000   \n",
       "\n",
       "       Visitors_Variant    Affiliate       Direct        Email  Paid Search  \\\n",
       "count       1260.000000  1260.000000  1260.000000  1260.000000  1260.000000   \n",
       "mean        2417.343651     0.166667     0.166667     0.166667     0.166667   \n",
       "std         3270.830372     0.372826     0.372826     0.372826     0.372826   \n",
       "min           25.000000     0.000000     0.000000     0.000000     0.000000   \n",
       "25%          260.250000     0.000000     0.000000     0.000000     0.000000   \n",
       "50%         1070.000000     0.000000     0.000000     0.000000     0.000000   \n",
       "75%         2995.500000     0.000000     0.000000     0.000000     0.000000   \n",
       "max        19045.000000     1.000000     1.000000     1.000000     1.000000   \n",
       "\n",
       "               SEO  Social Media     new_user  \n",
       "count  1260.000000   1260.000000  1260.000000  \n",
       "mean      0.166667      0.166667     0.500000  \n",
       "std       0.372826      0.372826     0.500199  \n",
       "min       0.000000      0.000000     0.000000  \n",
       "25%       0.000000      0.000000     0.000000  \n",
       "50%       0.000000      0.000000     0.500000  \n",
       "75%       0.000000      0.000000     1.000000  \n",
       "max       1.000000      1.000000     1.000000  "
      ]
     },
     "execution_count": 7,
     "metadata": {},
     "output_type": "execute_result"
    }
   ],
   "source": [
    "df.describe()"
   ]
  },
  {
   "cell_type": "markdown",
   "metadata": {},
   "source": [
    "# 1) Conversion Rate: control vs variant"
   ]
  },
  {
   "cell_type": "markdown",
   "metadata": {},
   "source": [
    "### control"
   ]
  },
  {
   "cell_type": "code",
   "execution_count": 8,
   "metadata": {},
   "outputs": [
    {
     "data": {
      "text/plain": [
       "0.05558219919855477"
      ]
     },
     "execution_count": 8,
     "metadata": {},
     "output_type": "execute_result"
    }
   ],
   "source": [
    "all_control = sum(df['Visitors_Control'])\n",
    "converted_control = sum(df[df['Purchase'] == 1]['Visitors_Control'])\n",
    "convrate_control = converted_control/all_control; convrate_control"
   ]
  },
  {
   "cell_type": "markdown",
   "metadata": {},
   "source": [
    "### variant"
   ]
  },
  {
   "cell_type": "code",
   "execution_count": 9,
   "metadata": {},
   "outputs": [
    {
     "data": {
      "text/plain": [
       "0.05305114856166729"
      ]
     },
     "execution_count": 9,
     "metadata": {},
     "output_type": "execute_result"
    }
   ],
   "source": [
    "all_variant = sum(df['Visitors_Variant'])\n",
    "converted_variant = sum(df[df['Purchase'] == 1]['Visitors_Variant'])\n",
    "convrate_variant = converted_variant/all_variant; convrate_variant"
   ]
  },
  {
   "cell_type": "markdown",
   "metadata": {},
   "source": [
    "### variant - control difference"
   ]
  },
  {
   "cell_type": "code",
   "execution_count": 10,
   "metadata": {},
   "outputs": [
    {
     "data": {
      "text/plain": [
       "-0.0025310506368874802"
      ]
     },
     "execution_count": 10,
     "metadata": {},
     "output_type": "execute_result"
    }
   ],
   "source": [
    "convrate_variant - convrate_control"
   ]
  },
  {
   "cell_type": "markdown",
   "metadata": {},
   "source": [
    "### variant/control ratio"
   ]
  },
  {
   "cell_type": "code",
   "execution_count": 11,
   "metadata": {},
   "outputs": [
    {
     "data": {
      "text/plain": [
       "0.9544629274590976"
      ]
     },
     "execution_count": 11,
     "metadata": {},
     "output_type": "execute_result"
    }
   ],
   "source": [
    "convrate_variant/convrate_control"
   ]
  },
  {
   "cell_type": "markdown",
   "metadata": {},
   "source": [
    "### line plot"
   ]
  },
  {
   "cell_type": "code",
   "execution_count": 12,
   "metadata": {},
   "outputs": [],
   "source": [
    "control_visits = np.array([sum(df[df['Date'] == date]['Visitors_Control']) for date in df['Date'].unique()])\n",
    "variant_visits = np.array([sum(df[df['Date'] == date]['Visitors_Variant']) for date in df['Date'].unique()])\n",
    "\n",
    "control_convs = np.array([sum(df[(df['Date'] == date) & (df['Purchase'] == 1)]['Visitors_Control']) for date in df['Date'].unique()])\n",
    "variant_convs = np.array([sum(df[(df['Date'] == date) & (df['Purchase'] == 1)]['Visitors_Variant']) for date in df['Date'].unique()])\n",
    "\n",
    "conv_df = pd.DataFrame({'day':list(range(len(df['Date'].unique()))), 'control':control_convs/control_visits, 'variant':variant_convs/variant_visits})"
   ]
  },
  {
   "cell_type": "code",
   "execution_count": 13,
   "metadata": {},
   "outputs": [
    {
     "data": {
      "text/html": [
       "<div>\n",
       "<style scoped>\n",
       "    .dataframe tbody tr th:only-of-type {\n",
       "        vertical-align: middle;\n",
       "    }\n",
       "\n",
       "    .dataframe tbody tr th {\n",
       "        vertical-align: top;\n",
       "    }\n",
       "\n",
       "    .dataframe thead th {\n",
       "        text-align: right;\n",
       "    }\n",
       "</style>\n",
       "<table border=\"1\" class=\"dataframe\">\n",
       "  <thead>\n",
       "    <tr style=\"text-align: right;\">\n",
       "      <th></th>\n",
       "      <th>day</th>\n",
       "      <th>control</th>\n",
       "      <th>variant</th>\n",
       "    </tr>\n",
       "  </thead>\n",
       "  <tbody>\n",
       "    <tr>\n",
       "      <th>count</th>\n",
       "      <td>21.000000</td>\n",
       "      <td>21.000000</td>\n",
       "      <td>21.000000</td>\n",
       "    </tr>\n",
       "    <tr>\n",
       "      <th>mean</th>\n",
       "      <td>10.000000</td>\n",
       "      <td>0.055613</td>\n",
       "      <td>0.053106</td>\n",
       "    </tr>\n",
       "    <tr>\n",
       "      <th>std</th>\n",
       "      <td>6.204837</td>\n",
       "      <td>0.012367</td>\n",
       "      <td>0.012792</td>\n",
       "    </tr>\n",
       "    <tr>\n",
       "      <th>min</th>\n",
       "      <td>0.000000</td>\n",
       "      <td>0.039739</td>\n",
       "      <td>0.038049</td>\n",
       "    </tr>\n",
       "    <tr>\n",
       "      <th>25%</th>\n",
       "      <td>5.000000</td>\n",
       "      <td>0.046462</td>\n",
       "      <td>0.044149</td>\n",
       "    </tr>\n",
       "    <tr>\n",
       "      <th>50%</th>\n",
       "      <td>10.000000</td>\n",
       "      <td>0.054468</td>\n",
       "      <td>0.051627</td>\n",
       "    </tr>\n",
       "    <tr>\n",
       "      <th>75%</th>\n",
       "      <td>15.000000</td>\n",
       "      <td>0.060127</td>\n",
       "      <td>0.057487</td>\n",
       "    </tr>\n",
       "    <tr>\n",
       "      <th>max</th>\n",
       "      <td>20.000000</td>\n",
       "      <td>0.097322</td>\n",
       "      <td>0.097641</td>\n",
       "    </tr>\n",
       "  </tbody>\n",
       "</table>\n",
       "</div>"
      ],
      "text/plain": [
       "             day    control    variant\n",
       "count  21.000000  21.000000  21.000000\n",
       "mean   10.000000   0.055613   0.053106\n",
       "std     6.204837   0.012367   0.012792\n",
       "min     0.000000   0.039739   0.038049\n",
       "25%     5.000000   0.046462   0.044149\n",
       "50%    10.000000   0.054468   0.051627\n",
       "75%    15.000000   0.060127   0.057487\n",
       "max    20.000000   0.097322   0.097641"
      ]
     },
     "execution_count": 13,
     "metadata": {},
     "output_type": "execute_result"
    }
   ],
   "source": [
    "conv_df.describe()"
   ]
  },
  {
   "cell_type": "code",
   "execution_count": 14,
   "metadata": {},
   "outputs": [
    {
     "data": {
      "image/png": "[encoded data removed]",
      "text/plain": [
       "<Figure size 432x288 with 1 Axes>"
      ]
     },
     "metadata": {
      "needs_background": "light"
     },
     "output_type": "display_data"
    }
   ],
   "source": [
    "ax = sns.lineplot(x='day', y='conversion_rate', hue='group', data=pd.melt(conv_df, id_vars=['day'], var_name='group', value_name='conversion_rate'))\n",
    "ax.set_xticks(range(21));\n",
    "ax.set_xticklabels(list(range(0,21,1)));"
   ]
  },
  {
   "cell_type": "code",
   "execution_count": null,
   "metadata": {},
   "outputs": [],
   "source": [
    "ax.get_figure().savefig('conversion.png')"
   ]
  },
  {
   "cell_type": "markdown",
   "metadata": {},
   "source": [
    "### statistical significance: chi-square test\n",
    "without splitting each control/variant group into subsets, the lower conversion rate in the variant is statistically significant"
   ]
  },
  {
   "cell_type": "code",
   "execution_count": 16,
   "metadata": {},
   "outputs": [
    {
     "name": "stdout",
     "output_type": "stream",
     "text": [
      "distance d: 188.4109566873264\n",
      "p-value: 7.066304522728502e-43\n"
     ]
    }
   ],
   "source": [
    "phat = (converted_control+converted_variant) / (all_control+all_variant)\n",
    "\n",
    "O = np.array([all_control-converted_control,converted_control,all_variant-converted_variant,converted_variant])\n",
    "T = np.array([all_control*(1-phat),all_control*phat,all_variant*(1-phat),all_variant*phat])\n",
    "\n",
    "D = np.sum(np.square(T-O)/T)\n",
    "\n",
    "pvalue = stats.chi2.sf(D, df=1)\n",
    "\n",
    "print(\"distance d: {0}\\np-value: {1}\".format(D,pvalue))"
   ]
  },
  {
   "cell_type": "markdown",
   "metadata": {},
   "source": [
    "### generate table"
   ]
  },
  {
   "cell_type": "code",
   "execution_count": null,
   "metadata": {},
   "outputs": [],
   "source": [
    "columns = ['Group','Rate','Variant-Control', 'Variant/Control','P-Value']\n",
    "control = ['Control',convrate_control,]"
   ]
  },
  {
   "cell_type": "markdown",
   "metadata": {},
   "source": [
    "# 2) Bounce Rate: control vs variant"
   ]
  },
  {
   "cell_type": "markdown",
   "metadata": {},
   "source": [
    "### control"
   ]
  },
  {
   "cell_type": "code",
   "execution_count": 17,
   "metadata": {},
   "outputs": [
    {
     "data": {
      "text/plain": [
       "0.3447419298964035"
      ]
     },
     "execution_count": 17,
     "metadata": {},
     "output_type": "execute_result"
    }
   ],
   "source": [
    "all_control = sum(df['Visitors_Control'])\n",
    "bounce_control = sum(df[df['Bounce'] == 1]['Visitors_Control'])\n",
    "bouncerate_control = bounce_control/all_control; bouncerate_control"
   ]
  },
  {
   "cell_type": "markdown",
   "metadata": {},
   "source": [
    "### variant"
   ]
  },
  {
   "cell_type": "code",
   "execution_count": 18,
   "metadata": {},
   "outputs": [
    {
     "data": {
      "text/plain": [
       "0.3593134665395868"
      ]
     },
     "execution_count": 18,
     "metadata": {},
     "output_type": "execute_result"
    }
   ],
   "source": [
    "all_variant = sum(df['Visitors_Variant'])\n",
    "bounce_variant = sum(df[df['Bounce'] == 1]['Visitors_Variant'])\n",
    "bouncerate_variant = bounce_variant/all_variant; bouncerate_variant"
   ]
  },
  {
   "cell_type": "markdown",
   "metadata": {},
   "source": [
    "### variant - control difference"
   ]
  },
  {
   "cell_type": "code",
   "execution_count": 58,
   "metadata": {},
   "outputs": [
    {
     "data": {
      "text/plain": [
       "0.01457153664318328"
      ]
     },
     "execution_count": 58,
     "metadata": {},
     "output_type": "execute_result"
    }
   ],
   "source": [
    "bouncerate_variant - bouncerate_control"
   ]
  },
  {
   "cell_type": "markdown",
   "metadata": {},
   "source": [
    "### variant/control ratio"
   ]
  },
  {
   "cell_type": "code",
   "execution_count": 123,
   "metadata": {},
   "outputs": [
    {
     "data": {
      "text/plain": [
       "1.042267955764946"
      ]
     },
     "execution_count": 123,
     "metadata": {},
     "output_type": "execute_result"
    }
   ],
   "source": [
    "bouncerate_variant/bouncerate_control"
   ]
  },
  {
   "cell_type": "markdown",
   "metadata": {},
   "source": [
    "### line plot"
   ]
  },
  {
   "cell_type": "code",
   "execution_count": 21,
   "metadata": {},
   "outputs": [],
   "source": [
    "control_visits = np.array([sum(df[df['Date'] == date]['Visitors_Control']) for date in df['Date'].unique()])\n",
    "variant_visits = np.array([sum(df[df['Date'] == date]['Visitors_Variant']) for date in df['Date'].unique()])\n",
    "\n",
    "control_bounces = np.array([sum(df[(df['Date'] == date) & (df['Bounce'] == 1)]['Visitors_Control']) for date in df['Date'].unique()])\n",
    "variant_bounces = np.array([sum(df[(df['Date'] == date) & (df['Bounce'] == 1)]['Visitors_Variant']) for date in df['Date'].unique()])\n",
    "\n",
    "conv_df = pd.DataFrame({'day':list(range(len(df['Date'].unique()))), 'control':control_bounces/control_visits, 'variant':variant_bounces/variant_visits})"
   ]
  },
  {
   "cell_type": "code",
   "execution_count": 22,
   "metadata": {},
   "outputs": [
    {
     "data": {
      "text/html": [
       "<div>\n",
       "<style scoped>\n",
       "    .dataframe tbody tr th:only-of-type {\n",
       "        vertical-align: middle;\n",
       "    }\n",
       "\n",
       "    .dataframe tbody tr th {\n",
       "        vertical-align: top;\n",
       "    }\n",
       "\n",
       "    .dataframe thead th {\n",
       "        text-align: right;\n",
       "    }\n",
       "</style>\n",
       "<table border=\"1\" class=\"dataframe\">\n",
       "  <thead>\n",
       "    <tr style=\"text-align: right;\">\n",
       "      <th></th>\n",
       "      <th>day</th>\n",
       "      <th>control</th>\n",
       "      <th>variant</th>\n",
       "    </tr>\n",
       "  </thead>\n",
       "  <tbody>\n",
       "    <tr>\n",
       "      <th>count</th>\n",
       "      <td>21.000000</td>\n",
       "      <td>21.000000</td>\n",
       "      <td>21.000000</td>\n",
       "    </tr>\n",
       "    <tr>\n",
       "      <th>mean</th>\n",
       "      <td>10.000000</td>\n",
       "      <td>0.344371</td>\n",
       "      <td>0.358844</td>\n",
       "    </tr>\n",
       "    <tr>\n",
       "      <th>std</th>\n",
       "      <td>6.204837</td>\n",
       "      <td>0.039661</td>\n",
       "      <td>0.041663</td>\n",
       "    </tr>\n",
       "    <tr>\n",
       "      <th>min</th>\n",
       "      <td>0.000000</td>\n",
       "      <td>0.246674</td>\n",
       "      <td>0.249624</td>\n",
       "    </tr>\n",
       "    <tr>\n",
       "      <th>25%</th>\n",
       "      <td>5.000000</td>\n",
       "      <td>0.322408</td>\n",
       "      <td>0.333533</td>\n",
       "    </tr>\n",
       "    <tr>\n",
       "      <th>50%</th>\n",
       "      <td>10.000000</td>\n",
       "      <td>0.341589</td>\n",
       "      <td>0.356583</td>\n",
       "    </tr>\n",
       "    <tr>\n",
       "      <th>75%</th>\n",
       "      <td>15.000000</td>\n",
       "      <td>0.368699</td>\n",
       "      <td>0.383660</td>\n",
       "    </tr>\n",
       "    <tr>\n",
       "      <th>max</th>\n",
       "      <td>20.000000</td>\n",
       "      <td>0.416608</td>\n",
       "      <td>0.431499</td>\n",
       "    </tr>\n",
       "  </tbody>\n",
       "</table>\n",
       "</div>"
      ],
      "text/plain": [
       "             day    control    variant\n",
       "count  21.000000  21.000000  21.000000\n",
       "mean   10.000000   0.344371   0.358844\n",
       "std     6.204837   0.039661   0.041663\n",
       "min     0.000000   0.246674   0.249624\n",
       "25%     5.000000   0.322408   0.333533\n",
       "50%    10.000000   0.341589   0.356583\n",
       "75%    15.000000   0.368699   0.383660\n",
       "max    20.000000   0.416608   0.431499"
      ]
     },
     "execution_count": 22,
     "metadata": {},
     "output_type": "execute_result"
    }
   ],
   "source": [
    "conv_df.describe()"
   ]
  },
  {
   "cell_type": "code",
   "execution_count": 23,
   "metadata": {},
   "outputs": [
    {
     "data": {
      "image/png": "[encoded data removed]",
      "text/plain": [
       "<Figure size 432x288 with 1 Axes>"
      ]
     },
     "metadata": {
      "needs_background": "light"
     },
     "output_type": "display_data"
    }
   ],
   "source": [
    "ax = sns.lineplot(x='day', y='bounce_rate', hue='group', data=pd.melt(conv_df, id_vars=['day'], var_name='group', value_name='bounce_rate'))\n",
    "ax.set_xticks(range(21));\n",
    "ax.set_xticklabels(list(range(0,21,1)));"
   ]
  },
  {
   "cell_type": "code",
   "execution_count": null,
   "metadata": {},
   "outputs": [],
   "source": [
    "ax.get_figure().savefig('bounce.png')"
   ]
  },
  {
   "cell_type": "markdown",
   "metadata": {},
   "source": [
    "### statistical significance: chi-square test\n",
    "without splitting the control/variant groups into subsets, the higher bounce rate in the variant is statistically significant"
   ]
  },
  {
   "cell_type": "code",
   "execution_count": 25,
   "metadata": {},
   "outputs": [
    {
     "name": "stdout",
     "output_type": "stream",
     "text": [
      "distance d: 1405.882458194404\n",
      "p-value: 1.1070322968182451e-307\n"
     ]
    }
   ],
   "source": [
    "phat = (bounce_control+bounce_variant) / (all_control+all_variant)\n",
    "\n",
    "O = np.array([all_control-bounce_control,bounce_control,all_variant-bounce_variant,bounce_variant])\n",
    "T = np.array([all_control*(1-phat),all_control*phat,all_variant*(1-phat),all_variant*phat])\n",
    "\n",
    "D = np.sum(np.square(T-O)/T)\n",
    "\n",
    "pvalue = stats.chi2.sf(D, df=1)\n",
    "\n",
    "print(\"distance d: {0}\\np-value: {1}\".format(D,pvalue))"
   ]
  },
  {
   "cell_type": "markdown",
   "metadata": {},
   "source": [
    "## chi-square: for a given subset/metric"
   ]
  },
  {
   "cell_type": "code",
   "execution_count": 26,
   "metadata": {},
   "outputs": [],
   "source": [
    "def chi_square(metric,channel,land,new_user,df):\n",
    "    \n",
    "    df = df[(df[channel]==1) & (df['new_user']==new_user) & (df['Land']==land)]\n",
    "    \n",
    "    all_control = sum(df['Visitors_Control'])\n",
    "    act_control = sum(df[df[metric] == 1]['Visitors_Control'])\n",
    "    rate_control = act_control/all_control\n",
    "    \n",
    "    all_variant = sum(df['Visitors_Variant'])\n",
    "    act_variant = sum(df[df[metric] == 1]['Visitors_Variant'])\n",
    "    rate_variant = act_variant/all_variant\n",
    "    \n",
    "    phat = (act_control+act_variant) / (all_control+all_variant)\n",
    "\n",
    "    O = np.array([all_control-act_control,act_control,all_variant-act_variant,act_variant])\n",
    "    T = np.array([all_control*(1-phat),all_control*phat,all_variant*(1-phat),all_variant*phat])\n",
    "\n",
    "    D = np.sum(np.square(T-O)/T)\n",
    "\n",
    "    pvalue = stats.chi2.sf(D, df=1)\n",
    "    \n",
    "    try:\n",
    "        ratio = rate_variant/rate_control\n",
    "    except:\n",
    "        ratio = None\n",
    "        pvalue = None\n",
    "    \n",
    "    return pvalue,ratio"
   ]
  },
  {
   "cell_type": "markdown",
   "metadata": {},
   "source": [
    "## Create Dataframe to summarize significance"
   ]
  },
  {
   "cell_type": "code",
   "execution_count": 59,
   "metadata": {},
   "outputs": [
    {
     "name": "stderr",
     "output_type": "stream",
     "text": [
      "/anaconda3/lib/python3.7/site-packages/ipykernel_launcher.py:18: RuntimeWarning: invalid value encountered in true_divide\n"
     ]
    }
   ],
   "source": [
    "chi_square_data = []\n",
    "\n",
    "for channel in channels:\n",
    "    \n",
    "    for land in [0,1]:\n",
    "        \n",
    "        for new_user in [0,1]:\n",
    "            \n",
    "            b_pvalue,b_ratio = chi_square('Bounce',channel,land,new_user,df)\n",
    "            c_pvalue,c_ratio = chi_square('Purchase',channel,land,new_user,df)\n",
    "            \n",
    "            chi_square_data += [[new_user,land,channel,c_ratio,c_pvalue,b_ratio,b_pvalue]]\n",
    "\n",
    "chi_square_data = sorted(chi_square_data,key=itemgetter(1,0,2),reverse=False)\n",
    "            \n",
    "df_stat = pd.DataFrame(data=chi_square_data,columns=['new_user','land','channel','conv_rate ratio (variant/control)','conv_pvalue','bounce_rate ratio (variant/control)','bounce_pvalue'])"
   ]
  },
  {
   "cell_type": "code",
   "execution_count": 60,
   "metadata": {},
   "outputs": [
    {
     "data": {
      "text/html": [
       "<div>\n",
       "<style scoped>\n",
       "    .dataframe tbody tr th:only-of-type {\n",
       "        vertical-align: middle;\n",
       "    }\n",
       "\n",
       "    .dataframe tbody tr th {\n",
       "        vertical-align: top;\n",
       "    }\n",
       "\n",
       "    .dataframe thead th {\n",
       "        text-align: right;\n",
       "    }\n",
       "</style>\n",
       "<table border=\"1\" class=\"dataframe\">\n",
       "  <thead>\n",
       "    <tr style=\"text-align: right;\">\n",
       "      <th></th>\n",
       "      <th>new_user</th>\n",
       "      <th>land</th>\n",
       "      <th>channel</th>\n",
       "      <th>conv_rate ratio (variant/control)</th>\n",
       "      <th>conv_pvalue</th>\n",
       "      <th>bounce_rate ratio (variant/control)</th>\n",
       "      <th>bounce_pvalue</th>\n",
       "    </tr>\n",
       "  </thead>\n",
       "  <tbody>\n",
       "    <tr>\n",
       "      <th>0</th>\n",
       "      <td>0</td>\n",
       "      <td>0</td>\n",
       "      <td>Affiliate</td>\n",
       "      <td>1.044200</td>\n",
       "      <td>8.725576e-02</td>\n",
       "      <td>NaN</td>\n",
       "      <td>NaN</td>\n",
       "    </tr>\n",
       "    <tr>\n",
       "      <th>1</th>\n",
       "      <td>0</td>\n",
       "      <td>0</td>\n",
       "      <td>Direct</td>\n",
       "      <td>0.923416</td>\n",
       "      <td>2.237711e-05</td>\n",
       "      <td>NaN</td>\n",
       "      <td>NaN</td>\n",
       "    </tr>\n",
       "    <tr>\n",
       "      <th>2</th>\n",
       "      <td>0</td>\n",
       "      <td>0</td>\n",
       "      <td>Email</td>\n",
       "      <td>0.950100</td>\n",
       "      <td>1.365877e-01</td>\n",
       "      <td>NaN</td>\n",
       "      <td>NaN</td>\n",
       "    </tr>\n",
       "    <tr>\n",
       "      <th>3</th>\n",
       "      <td>0</td>\n",
       "      <td>0</td>\n",
       "      <td>Paid Search</td>\n",
       "      <td>0.957468</td>\n",
       "      <td>1.669638e-01</td>\n",
       "      <td>NaN</td>\n",
       "      <td>NaN</td>\n",
       "    </tr>\n",
       "    <tr>\n",
       "      <th>4</th>\n",
       "      <td>0</td>\n",
       "      <td>0</td>\n",
       "      <td>SEO</td>\n",
       "      <td>0.966234</td>\n",
       "      <td>1.429692e-01</td>\n",
       "      <td>NaN</td>\n",
       "      <td>NaN</td>\n",
       "    </tr>\n",
       "    <tr>\n",
       "      <th>5</th>\n",
       "      <td>0</td>\n",
       "      <td>0</td>\n",
       "      <td>Social Media</td>\n",
       "      <td>0.950775</td>\n",
       "      <td>1.826116e-01</td>\n",
       "      <td>NaN</td>\n",
       "      <td>NaN</td>\n",
       "    </tr>\n",
       "    <tr>\n",
       "      <th>6</th>\n",
       "      <td>1</td>\n",
       "      <td>0</td>\n",
       "      <td>Affiliate</td>\n",
       "      <td>0.977987</td>\n",
       "      <td>3.533897e-01</td>\n",
       "      <td>NaN</td>\n",
       "      <td>NaN</td>\n",
       "    </tr>\n",
       "    <tr>\n",
       "      <th>7</th>\n",
       "      <td>1</td>\n",
       "      <td>0</td>\n",
       "      <td>Direct</td>\n",
       "      <td>0.947334</td>\n",
       "      <td>9.395473e-04</td>\n",
       "      <td>NaN</td>\n",
       "      <td>NaN</td>\n",
       "    </tr>\n",
       "    <tr>\n",
       "      <th>8</th>\n",
       "      <td>1</td>\n",
       "      <td>0</td>\n",
       "      <td>Email</td>\n",
       "      <td>0.965764</td>\n",
       "      <td>3.587866e-01</td>\n",
       "      <td>NaN</td>\n",
       "      <td>NaN</td>\n",
       "    </tr>\n",
       "    <tr>\n",
       "      <th>9</th>\n",
       "      <td>1</td>\n",
       "      <td>0</td>\n",
       "      <td>Paid Search</td>\n",
       "      <td>0.988299</td>\n",
       "      <td>6.996750e-01</td>\n",
       "      <td>NaN</td>\n",
       "      <td>NaN</td>\n",
       "    </tr>\n",
       "    <tr>\n",
       "      <th>10</th>\n",
       "      <td>1</td>\n",
       "      <td>0</td>\n",
       "      <td>SEO</td>\n",
       "      <td>0.944070</td>\n",
       "      <td>4.490929e-03</td>\n",
       "      <td>NaN</td>\n",
       "      <td>NaN</td>\n",
       "    </tr>\n",
       "    <tr>\n",
       "      <th>11</th>\n",
       "      <td>1</td>\n",
       "      <td>0</td>\n",
       "      <td>Social Media</td>\n",
       "      <td>1.050713</td>\n",
       "      <td>2.570289e-01</td>\n",
       "      <td>NaN</td>\n",
       "      <td>NaN</td>\n",
       "    </tr>\n",
       "    <tr>\n",
       "      <th>12</th>\n",
       "      <td>0</td>\n",
       "      <td>1</td>\n",
       "      <td>Affiliate</td>\n",
       "      <td>0.920976</td>\n",
       "      <td>2.677102e-08</td>\n",
       "      <td>1.027582</td>\n",
       "      <td>6.568853e-11</td>\n",
       "    </tr>\n",
       "    <tr>\n",
       "      <th>13</th>\n",
       "      <td>0</td>\n",
       "      <td>1</td>\n",
       "      <td>Direct</td>\n",
       "      <td>0.932118</td>\n",
       "      <td>2.188615e-13</td>\n",
       "      <td>1.062644</td>\n",
       "      <td>6.722964e-112</td>\n",
       "    </tr>\n",
       "    <tr>\n",
       "      <th>14</th>\n",
       "      <td>0</td>\n",
       "      <td>1</td>\n",
       "      <td>Email</td>\n",
       "      <td>0.943150</td>\n",
       "      <td>7.038769e-03</td>\n",
       "      <td>1.050081</td>\n",
       "      <td>3.192790e-13</td>\n",
       "    </tr>\n",
       "    <tr>\n",
       "      <th>15</th>\n",
       "      <td>0</td>\n",
       "      <td>1</td>\n",
       "      <td>Paid Search</td>\n",
       "      <td>0.870167</td>\n",
       "      <td>1.481293e-14</td>\n",
       "      <td>1.031369</td>\n",
       "      <td>3.148455e-09</td>\n",
       "    </tr>\n",
       "    <tr>\n",
       "      <th>16</th>\n",
       "      <td>0</td>\n",
       "      <td>1</td>\n",
       "      <td>SEO</td>\n",
       "      <td>0.925030</td>\n",
       "      <td>5.438949e-10</td>\n",
       "      <td>1.016965</td>\n",
       "      <td>9.680926e-07</td>\n",
       "    </tr>\n",
       "    <tr>\n",
       "      <th>17</th>\n",
       "      <td>0</td>\n",
       "      <td>1</td>\n",
       "      <td>Social Media</td>\n",
       "      <td>1.025623</td>\n",
       "      <td>2.857426e-01</td>\n",
       "      <td>1.078962</td>\n",
       "      <td>5.759965e-24</td>\n",
       "    </tr>\n",
       "    <tr>\n",
       "      <th>18</th>\n",
       "      <td>1</td>\n",
       "      <td>1</td>\n",
       "      <td>Affiliate</td>\n",
       "      <td>1.033099</td>\n",
       "      <td>6.761827e-03</td>\n",
       "      <td>1.019774</td>\n",
       "      <td>3.336166e-09</td>\n",
       "    </tr>\n",
       "    <tr>\n",
       "      <th>19</th>\n",
       "      <td>1</td>\n",
       "      <td>1</td>\n",
       "      <td>Direct</td>\n",
       "      <td>0.943457</td>\n",
       "      <td>2.208568e-12</td>\n",
       "      <td>1.047805</td>\n",
       "      <td>8.348995e-95</td>\n",
       "    </tr>\n",
       "    <tr>\n",
       "      <th>20</th>\n",
       "      <td>1</td>\n",
       "      <td>1</td>\n",
       "      <td>Email</td>\n",
       "      <td>0.939848</td>\n",
       "      <td>1.407659e-03</td>\n",
       "      <td>1.033899</td>\n",
       "      <td>1.215699e-10</td>\n",
       "    </tr>\n",
       "    <tr>\n",
       "      <th>21</th>\n",
       "      <td>1</td>\n",
       "      <td>1</td>\n",
       "      <td>Paid Search</td>\n",
       "      <td>1.013970</td>\n",
       "      <td>3.821198e-01</td>\n",
       "      <td>1.041908</td>\n",
       "      <td>2.221477e-23</td>\n",
       "    </tr>\n",
       "    <tr>\n",
       "      <th>22</th>\n",
       "      <td>1</td>\n",
       "      <td>1</td>\n",
       "      <td>SEO</td>\n",
       "      <td>0.968388</td>\n",
       "      <td>2.079523e-03</td>\n",
       "      <td>1.050953</td>\n",
       "      <td>2.336105e-70</td>\n",
       "    </tr>\n",
       "    <tr>\n",
       "      <th>23</th>\n",
       "      <td>1</td>\n",
       "      <td>1</td>\n",
       "      <td>Social Media</td>\n",
       "      <td>0.990628</td>\n",
       "      <td>6.683569e-01</td>\n",
       "      <td>0.980478</td>\n",
       "      <td>1.327456e-03</td>\n",
       "    </tr>\n",
       "  </tbody>\n",
       "</table>\n",
       "</div>"
      ],
      "text/plain": [
       "    new_user  land       channel  conv_rate ratio (variant/control)  \\\n",
       "0          0     0     Affiliate                           1.044200   \n",
       "1          0     0        Direct                           0.923416   \n",
       "2          0     0         Email                           0.950100   \n",
       "3          0     0   Paid Search                           0.957468   \n",
       "4          0     0           SEO                           0.966234   \n",
       "5          0     0  Social Media                           0.950775   \n",
       "6          1     0     Affiliate                           0.977987   \n",
       "7          1     0        Direct                           0.947334   \n",
       "8          1     0         Email                           0.965764   \n",
       "9          1     0   Paid Search                           0.988299   \n",
       "10         1     0           SEO                           0.944070   \n",
       "11         1     0  Social Media                           1.050713   \n",
       "12         0     1     Affiliate                           0.920976   \n",
       "13         0     1        Direct                           0.932118   \n",
       "14         0     1         Email                           0.943150   \n",
       "15         0     1   Paid Search                           0.870167   \n",
       "16         0     1           SEO                           0.925030   \n",
       "17         0     1  Social Media                           1.025623   \n",
       "18         1     1     Affiliate                           1.033099   \n",
       "19         1     1        Direct                           0.943457   \n",
       "20         1     1         Email                           0.939848   \n",
       "21         1     1   Paid Search                           1.013970   \n",
       "22         1     1           SEO                           0.968388   \n",
       "23         1     1  Social Media                           0.990628   \n",
       "\n",
       "     conv_pvalue  bounce_rate ratio (variant/control)  bounce_pvalue  \n",
       "0   8.725576e-02                                  NaN            NaN  \n",
       "1   2.237711e-05                                  NaN            NaN  \n",
       "2   1.365877e-01                                  NaN            NaN  \n",
       "3   1.669638e-01                                  NaN            NaN  \n",
       "4   1.429692e-01                                  NaN            NaN  \n",
       "5   1.826116e-01                                  NaN            NaN  \n",
       "6   3.533897e-01                                  NaN            NaN  \n",
       "7   9.395473e-04                                  NaN            NaN  \n",
       "8   3.587866e-01                                  NaN            NaN  \n",
       "9   6.996750e-01                                  NaN            NaN  \n",
       "10  4.490929e-03                                  NaN            NaN  \n",
       "11  2.570289e-01                                  NaN            NaN  \n",
       "12  2.677102e-08                             1.027582   6.568853e-11  \n",
       "13  2.188615e-13                             1.062644  6.722964e-112  \n",
       "14  7.038769e-03                             1.050081   3.192790e-13  \n",
       "15  1.481293e-14                             1.031369   3.148455e-09  \n",
       "16  5.438949e-10                             1.016965   9.680926e-07  \n",
       "17  2.857426e-01                             1.078962   5.759965e-24  \n",
       "18  6.761827e-03                             1.019774   3.336166e-09  \n",
       "19  2.208568e-12                             1.047805   8.348995e-95  \n",
       "20  1.407659e-03                             1.033899   1.215699e-10  \n",
       "21  3.821198e-01                             1.041908   2.221477e-23  \n",
       "22  2.079523e-03                             1.050953   2.336105e-70  \n",
       "23  6.683569e-01                             0.980478   1.327456e-03  "
      ]
     },
     "execution_count": 60,
     "metadata": {},
     "output_type": "execute_result"
    }
   ],
   "source": [
    "df_stat"
   ]
  },
  {
   "cell_type": "code",
   "execution_count": 127,
   "metadata": {},
   "outputs": [
    {
     "data": {
      "text/plain": [
       "'<table border=\"1\" class=\"dataframe\">  <thead>    <tr style=\"text-align: right;\">      <th></th>      <th>new_user</th>      <th>land</th>      <th>channel</th>      <th>conv_rate ratio (variant/control)</th>      <th>conv_pvalue</th>      <th>bounce_rate ratio (variant/control)</th>      <th>bounce_pvalue</th>    </tr>  </thead>  <tbody>    <tr>      <th>0</th>      <td>0</td>      <td>0</td>      <td>Affiliate</td>      <td>1.044200</td>      <td>8.725576e-02</td>      <td>-</td>      <td>-</td>    </tr>    <tr>      <th>1</th>      <td>0</td>      <td>0</td>      <td>Direct</td>      <td>0.923416</td>      <td>2.237711e-05</td>      <td>-</td>      <td>-</td>    </tr>    <tr>      <th>2</th>      <td>0</td>      <td>0</td>      <td>Email</td>      <td>0.950100</td>      <td>1.365877e-01</td>      <td>-</td>      <td>-</td>    </tr>    <tr>      <th>3</th>      <td>0</td>      <td>0</td>      <td>Paid Search</td>      <td>0.957468</td>      <td>1.669638e-01</td>      <td>-</td>      <td>-</td>    </tr>    <tr>      <th>4</th>      <td>0</td>      <td>0</td>      <td>SEO</td>      <td>0.966234</td>      <td>1.429692e-01</td>      <td>-</td>      <td>-</td>    </tr>    <tr>      <th>5</th>      <td>0</td>      <td>0</td>      <td>Social Media</td>      <td>0.950775</td>      <td>1.826116e-01</td>      <td>-</td>      <td>-</td>    </tr>    <tr>      <th>6</th>      <td>1</td>      <td>0</td>      <td>Affiliate</td>      <td>0.977987</td>      <td>3.533897e-01</td>      <td>-</td>      <td>-</td>    </tr>    <tr>      <th>7</th>      <td>1</td>      <td>0</td>      <td>Direct</td>      <td>0.947334</td>      <td>9.395473e-04</td>      <td>-</td>      <td>-</td>    </tr>    <tr>      <th>8</th>      <td>1</td>      <td>0</td>      <td>Email</td>      <td>0.965764</td>      <td>3.587866e-01</td>      <td>-</td>      <td>-</td>    </tr>    <tr>      <th>9</th>      <td>1</td>      <td>0</td>      <td>Paid Search</td>      <td>0.988299</td>      <td>6.996750e-01</td>      <td>-</td>      <td>-</td>    </tr>    <tr>      <th>10</th>      <td>1</td>      <td>0</td>      <td>SEO</td>      <td>0.944070</td>      <td>4.490929e-03</td>      <td>-</td>      <td>-</td>    </tr>    <tr>      <th>11</th>      <td>1</td>      <td>0</td>      <td>Social Media</td>      <td>1.050713</td>      <td>2.570289e-01</td>      <td>-</td>      <td>-</td>    </tr>    <tr>      <th>12</th>      <td>0</td>      <td>1</td>      <td>Affiliate</td>      <td>0.920976</td>      <td>2.677102e-08</td>      <td>1.02758</td>      <td>6.56885e-11</td>    </tr>    <tr>      <th>13</th>      <td>0</td>      <td>1</td>      <td>Direct</td>      <td>0.932118</td>      <td>2.188615e-13</td>      <td>1.06264</td>      <td>6.72296e-112</td>    </tr>    <tr>      <th>14</th>      <td>0</td>      <td>1</td>      <td>Email</td>      <td>0.943150</td>      <td>7.038769e-03</td>      <td>1.05008</td>      <td>3.19279e-13</td>    </tr>    <tr>      <th>15</th>      <td>0</td>      <td>1</td>      <td>Paid Search</td>      <td>0.870167</td>      <td>1.481293e-14</td>      <td>1.03137</td>      <td>3.14846e-09</td>    </tr>    <tr>      <th>16</th>      <td>0</td>      <td>1</td>      <td>SEO</td>      <td>0.925030</td>      <td>5.438949e-10</td>      <td>1.01697</td>      <td>9.68093e-07</td>    </tr>    <tr>      <th>17</th>      <td>0</td>      <td>1</td>      <td>Social Media</td>      <td>1.025623</td>      <td>2.857426e-01</td>      <td>1.07896</td>      <td>5.75997e-24</td>    </tr>    <tr>      <th>18</th>      <td>1</td>      <td>1</td>      <td>Affiliate</td>      <td>1.033099</td>      <td>6.761827e-03</td>      <td>1.01977</td>      <td>3.33617e-09</td>    </tr>    <tr>      <th>19</th>      <td>1</td>      <td>1</td>      <td>Direct</td>      <td>0.943457</td>      <td>2.208568e-12</td>      <td>1.04781</td>      <td>8.349e-95</td>    </tr>    <tr>      <th>20</th>      <td>1</td>      <td>1</td>      <td>Email</td>      <td>0.939848</td>      <td>1.407659e-03</td>      <td>1.0339</td>      <td>1.2157e-10</td>    </tr>    <tr>      <th>21</th>      <td>1</td>      <td>1</td>      <td>Paid Search</td>      <td>1.013970</td>      <td>3.821198e-01</td>      <td>1.04191</td>      <td>2.22148e-23</td>    </tr>    <tr>      <th>22</th>      <td>1</td>      <td>1</td>      <td>SEO</td>      <td>0.968388</td>      <td>2.079523e-03</td>      <td>1.05095</td>      <td>2.33611e-70</td>    </tr>    <tr>      <th>23</th>      <td>1</td>      <td>1</td>      <td>Social Media</td>      <td>0.990628</td>      <td>6.683569e-01</td>      <td>0.980478</td>      <td>0.00132746</td>    </tr>  </tbody></table>'"
      ]
     },
     "execution_count": 127,
     "metadata": {},
     "output_type": "execute_result"
    }
   ],
   "source": [
    "df_stat.fillna(value='-').to_html().replace('\\n','')"
   ]
  },
  {
   "cell_type": "markdown",
   "metadata": {},
   "source": [
    "## subsets by type"
   ]
  },
  {
   "cell_type": "markdown",
   "metadata": {},
   "source": [
    "### control strongly better (significantly better conversion and bounce rates)"
   ]
  },
  {
   "cell_type": "code",
   "execution_count": 125,
   "metadata": {},
   "outputs": [
    {
     "data": {
      "text/html": [
       "<div>\n",
       "<style scoped>\n",
       "    .dataframe tbody tr th:only-of-type {\n",
       "        vertical-align: middle;\n",
       "    }\n",
       "\n",
       "    .dataframe tbody tr th {\n",
       "        vertical-align: top;\n",
       "    }\n",
       "\n",
       "    .dataframe thead th {\n",
       "        text-align: right;\n",
       "    }\n",
       "</style>\n",
       "<table border=\"1\" class=\"dataframe\">\n",
       "  <thead>\n",
       "    <tr style=\"text-align: right;\">\n",
       "      <th></th>\n",
       "      <th>new_user</th>\n",
       "      <th>land</th>\n",
       "      <th>channel</th>\n",
       "      <th>conv_rate ratio (variant/control)</th>\n",
       "      <th>conv_pvalue</th>\n",
       "      <th>bounce_rate ratio (variant/control)</th>\n",
       "      <th>bounce_pvalue</th>\n",
       "    </tr>\n",
       "  </thead>\n",
       "  <tbody>\n",
       "    <tr>\n",
       "      <th>1</th>\n",
       "      <td>0</td>\n",
       "      <td>0</td>\n",
       "      <td>Direct</td>\n",
       "      <td>0.923416</td>\n",
       "      <td>2.237711e-05</td>\n",
       "      <td>-</td>\n",
       "      <td>-</td>\n",
       "    </tr>\n",
       "    <tr>\n",
       "      <th>7</th>\n",
       "      <td>1</td>\n",
       "      <td>0</td>\n",
       "      <td>Direct</td>\n",
       "      <td>0.947334</td>\n",
       "      <td>9.395473e-04</td>\n",
       "      <td>-</td>\n",
       "      <td>-</td>\n",
       "    </tr>\n",
       "    <tr>\n",
       "      <th>10</th>\n",
       "      <td>1</td>\n",
       "      <td>0</td>\n",
       "      <td>SEO</td>\n",
       "      <td>0.944070</td>\n",
       "      <td>4.490929e-03</td>\n",
       "      <td>-</td>\n",
       "      <td>-</td>\n",
       "    </tr>\n",
       "    <tr>\n",
       "      <th>12</th>\n",
       "      <td>0</td>\n",
       "      <td>1</td>\n",
       "      <td>Affiliate</td>\n",
       "      <td>0.920976</td>\n",
       "      <td>2.677102e-08</td>\n",
       "      <td>1.02758</td>\n",
       "      <td>6.56885e-11</td>\n",
       "    </tr>\n",
       "    <tr>\n",
       "      <th>13</th>\n",
       "      <td>0</td>\n",
       "      <td>1</td>\n",
       "      <td>Direct</td>\n",
       "      <td>0.932118</td>\n",
       "      <td>2.188615e-13</td>\n",
       "      <td>1.06264</td>\n",
       "      <td>6.72296e-112</td>\n",
       "    </tr>\n",
       "    <tr>\n",
       "      <th>14</th>\n",
       "      <td>0</td>\n",
       "      <td>1</td>\n",
       "      <td>Email</td>\n",
       "      <td>0.943150</td>\n",
       "      <td>7.038769e-03</td>\n",
       "      <td>1.05008</td>\n",
       "      <td>3.19279e-13</td>\n",
       "    </tr>\n",
       "    <tr>\n",
       "      <th>15</th>\n",
       "      <td>0</td>\n",
       "      <td>1</td>\n",
       "      <td>Paid Search</td>\n",
       "      <td>0.870167</td>\n",
       "      <td>1.481293e-14</td>\n",
       "      <td>1.03137</td>\n",
       "      <td>3.14846e-09</td>\n",
       "    </tr>\n",
       "    <tr>\n",
       "      <th>16</th>\n",
       "      <td>0</td>\n",
       "      <td>1</td>\n",
       "      <td>SEO</td>\n",
       "      <td>0.925030</td>\n",
       "      <td>5.438949e-10</td>\n",
       "      <td>1.01697</td>\n",
       "      <td>9.68093e-07</td>\n",
       "    </tr>\n",
       "    <tr>\n",
       "      <th>19</th>\n",
       "      <td>1</td>\n",
       "      <td>1</td>\n",
       "      <td>Direct</td>\n",
       "      <td>0.943457</td>\n",
       "      <td>2.208568e-12</td>\n",
       "      <td>1.04781</td>\n",
       "      <td>8.349e-95</td>\n",
       "    </tr>\n",
       "    <tr>\n",
       "      <th>20</th>\n",
       "      <td>1</td>\n",
       "      <td>1</td>\n",
       "      <td>Email</td>\n",
       "      <td>0.939848</td>\n",
       "      <td>1.407659e-03</td>\n",
       "      <td>1.0339</td>\n",
       "      <td>1.2157e-10</td>\n",
       "    </tr>\n",
       "    <tr>\n",
       "      <th>22</th>\n",
       "      <td>1</td>\n",
       "      <td>1</td>\n",
       "      <td>SEO</td>\n",
       "      <td>0.968388</td>\n",
       "      <td>2.079523e-03</td>\n",
       "      <td>1.05095</td>\n",
       "      <td>2.33611e-70</td>\n",
       "    </tr>\n",
       "  </tbody>\n",
       "</table>\n",
       "</div>"
      ],
      "text/plain": [
       "    new_user  land      channel  conv_rate ratio (variant/control)  \\\n",
       "1          0     0       Direct                           0.923416   \n",
       "7          1     0       Direct                           0.947334   \n",
       "10         1     0          SEO                           0.944070   \n",
       "12         0     1    Affiliate                           0.920976   \n",
       "13         0     1       Direct                           0.932118   \n",
       "14         0     1        Email                           0.943150   \n",
       "15         0     1  Paid Search                           0.870167   \n",
       "16         0     1          SEO                           0.925030   \n",
       "19         1     1       Direct                           0.943457   \n",
       "20         1     1        Email                           0.939848   \n",
       "22         1     1          SEO                           0.968388   \n",
       "\n",
       "     conv_pvalue bounce_rate ratio (variant/control) bounce_pvalue  \n",
       "1   2.237711e-05                                   -             -  \n",
       "7   9.395473e-04                                   -             -  \n",
       "10  4.490929e-03                                   -             -  \n",
       "12  2.677102e-08                             1.02758   6.56885e-11  \n",
       "13  2.188615e-13                             1.06264  6.72296e-112  \n",
       "14  7.038769e-03                             1.05008   3.19279e-13  \n",
       "15  1.481293e-14                             1.03137   3.14846e-09  \n",
       "16  5.438949e-10                             1.01697   9.68093e-07  \n",
       "19  2.208568e-12                             1.04781     8.349e-95  \n",
       "20  1.407659e-03                              1.0339    1.2157e-10  \n",
       "22  2.079523e-03                             1.05095   2.33611e-70  "
      ]
     },
     "execution_count": 125,
     "metadata": {},
     "output_type": "execute_result"
    }
   ],
   "source": [
    "df_fillna = df_stat.fillna(value=0)\n",
    "\n",
    "df_fillna = df_fillna[\n",
    "    (df_fillna['conv_rate ratio (variant/control)'] < 1) &\n",
    "    (df_fillna['conv_pvalue'] < .05) &\n",
    "    \n",
    "    ((df_fillna['bounce_rate ratio (variant/control)'] == 0) |\n",
    "     \n",
    "     ((df_fillna['bounce_rate ratio (variant/control)'] > 1) &\n",
    "     (df_fillna['bounce_pvalue'] < .05)\n",
    "     )\n",
    "     \n",
    "    )\n",
    "    \n",
    "]\n",
    "\n",
    "df_stat.iloc[list(df_fillna.index)].fillna('-')"
   ]
  },
  {
   "cell_type": "code",
   "execution_count": 128,
   "metadata": {},
   "outputs": [
    {
     "data": {
      "text/plain": [
       "'<table border=\"1\" class=\"dataframe\">  <thead>    <tr style=\"text-align: right;\">      <th></th>      <th>new_user</th>      <th>land</th>      <th>channel</th>      <th>conv_rate ratio (variant/control)</th>      <th>conv_pvalue</th>      <th>bounce_rate ratio (variant/control)</th>      <th>bounce_pvalue</th>    </tr>  </thead>  <tbody>    <tr>      <th>1</th>      <td>0</td>      <td>0</td>      <td>Direct</td>      <td>0.923416</td>      <td>2.237711e-05</td>      <td>-</td>      <td>-</td>    </tr>    <tr>      <th>7</th>      <td>1</td>      <td>0</td>      <td>Direct</td>      <td>0.947334</td>      <td>9.395473e-04</td>      <td>-</td>      <td>-</td>    </tr>    <tr>      <th>10</th>      <td>1</td>      <td>0</td>      <td>SEO</td>      <td>0.944070</td>      <td>4.490929e-03</td>      <td>-</td>      <td>-</td>    </tr>    <tr>      <th>12</th>      <td>0</td>      <td>1</td>      <td>Affiliate</td>      <td>0.920976</td>      <td>2.677102e-08</td>      <td>1.02758</td>      <td>6.56885e-11</td>    </tr>    <tr>      <th>13</th>      <td>0</td>      <td>1</td>      <td>Direct</td>      <td>0.932118</td>      <td>2.188615e-13</td>      <td>1.06264</td>      <td>6.72296e-112</td>    </tr>    <tr>      <th>14</th>      <td>0</td>      <td>1</td>      <td>Email</td>      <td>0.943150</td>      <td>7.038769e-03</td>      <td>1.05008</td>      <td>3.19279e-13</td>    </tr>    <tr>      <th>15</th>      <td>0</td>      <td>1</td>      <td>Paid Search</td>      <td>0.870167</td>      <td>1.481293e-14</td>      <td>1.03137</td>      <td>3.14846e-09</td>    </tr>    <tr>      <th>16</th>      <td>0</td>      <td>1</td>      <td>SEO</td>      <td>0.925030</td>      <td>5.438949e-10</td>      <td>1.01697</td>      <td>9.68093e-07</td>    </tr>    <tr>      <th>19</th>      <td>1</td>      <td>1</td>      <td>Direct</td>      <td>0.943457</td>      <td>2.208568e-12</td>      <td>1.04781</td>      <td>8.349e-95</td>    </tr>    <tr>      <th>20</th>      <td>1</td>      <td>1</td>      <td>Email</td>      <td>0.939848</td>      <td>1.407659e-03</td>      <td>1.0339</td>      <td>1.2157e-10</td>    </tr>    <tr>      <th>22</th>      <td>1</td>      <td>1</td>      <td>SEO</td>      <td>0.968388</td>      <td>2.079523e-03</td>      <td>1.05095</td>      <td>2.33611e-70</td>    </tr>  </tbody></table>'"
      ]
     },
     "execution_count": 128,
     "metadata": {},
     "output_type": "execute_result"
    }
   ],
   "source": [
    "df_stat.iloc[list(df_fillna.index)].fillna('-').to_html().replace('\\n','')"
   ]
  },
  {
   "cell_type": "markdown",
   "metadata": {},
   "source": [
    "### variant strongly better (significantly better conversion and bounce rates)"
   ]
  },
  {
   "cell_type": "code",
   "execution_count": 129,
   "metadata": {},
   "outputs": [
    {
     "data": {
      "text/html": [
       "<div>\n",
       "<style scoped>\n",
       "    .dataframe tbody tr th:only-of-type {\n",
       "        vertical-align: middle;\n",
       "    }\n",
       "\n",
       "    .dataframe tbody tr th {\n",
       "        vertical-align: top;\n",
       "    }\n",
       "\n",
       "    .dataframe thead th {\n",
       "        text-align: right;\n",
       "    }\n",
       "</style>\n",
       "<table border=\"1\" class=\"dataframe\">\n",
       "  <thead>\n",
       "    <tr style=\"text-align: right;\">\n",
       "      <th></th>\n",
       "      <th>new_user</th>\n",
       "      <th>land</th>\n",
       "      <th>channel</th>\n",
       "      <th>conv_rate ratio (variant/control)</th>\n",
       "      <th>conv_pvalue</th>\n",
       "      <th>bounce_rate ratio (variant/control)</th>\n",
       "      <th>bounce_pvalue</th>\n",
       "    </tr>\n",
       "  </thead>\n",
       "  <tbody>\n",
       "  </tbody>\n",
       "</table>\n",
       "</div>"
      ],
      "text/plain": [
       "Empty DataFrame\n",
       "Columns: [new_user, land, channel, conv_rate ratio (variant/control), conv_pvalue, bounce_rate ratio (variant/control), bounce_pvalue]\n",
       "Index: []"
      ]
     },
     "execution_count": 129,
     "metadata": {},
     "output_type": "execute_result"
    }
   ],
   "source": [
    "df_fillna = df_stat.fillna(value=0)\n",
    "\n",
    "df_fillna = df_fillna[\n",
    "    (df_fillna['conv_rate ratio (variant/control)'] > 1) &\n",
    "    (df_fillna['conv_pvalue'] < .05) &\n",
    "    \n",
    "    ((df_fillna['bounce_rate ratio (variant/control)'] == 0) |\n",
    "     \n",
    "     (\n",
    "     (df_fillna['bounce_rate ratio (variant/control)'] != 0 ) &\n",
    "     (df_fillna['bounce_rate ratio (variant/control)'] < 1 ) &\n",
    "     (df_fillna['bounce_pvalue'] < .05)\n",
    "     )\n",
    "     \n",
    "    )\n",
    "    \n",
    "]\n",
    "\n",
    "df_stat.iloc[list(df_fillna.index)].fillna('-')"
   ]
  },
  {
   "cell_type": "markdown",
   "metadata": {},
   "source": [
    "### control: (better conversion rate, worse/inconclusive bounce rate)"
   ]
  },
  {
   "cell_type": "code",
   "execution_count": 130,
   "metadata": {},
   "outputs": [
    {
     "data": {
      "text/html": [
       "<div>\n",
       "<style scoped>\n",
       "    .dataframe tbody tr th:only-of-type {\n",
       "        vertical-align: middle;\n",
       "    }\n",
       "\n",
       "    .dataframe tbody tr th {\n",
       "        vertical-align: top;\n",
       "    }\n",
       "\n",
       "    .dataframe thead th {\n",
       "        text-align: right;\n",
       "    }\n",
       "</style>\n",
       "<table border=\"1\" class=\"dataframe\">\n",
       "  <thead>\n",
       "    <tr style=\"text-align: right;\">\n",
       "      <th></th>\n",
       "      <th>new_user</th>\n",
       "      <th>land</th>\n",
       "      <th>channel</th>\n",
       "      <th>conv_rate ratio (variant/control)</th>\n",
       "      <th>conv_pvalue</th>\n",
       "      <th>bounce_rate ratio (variant/control)</th>\n",
       "      <th>bounce_pvalue</th>\n",
       "    </tr>\n",
       "  </thead>\n",
       "  <tbody>\n",
       "  </tbody>\n",
       "</table>\n",
       "</div>"
      ],
      "text/plain": [
       "Empty DataFrame\n",
       "Columns: [new_user, land, channel, conv_rate ratio (variant/control), conv_pvalue, bounce_rate ratio (variant/control), bounce_pvalue]\n",
       "Index: []"
      ]
     },
     "execution_count": 130,
     "metadata": {},
     "output_type": "execute_result"
    }
   ],
   "source": [
    "df_fillna = df_stat.fillna(value=0)\n",
    "\n",
    "df_fillna = df_fillna[\n",
    "    (df_fillna['conv_rate ratio (variant/control)'] > 1) &\n",
    "    (df_fillna['conv_pvalue'] < .05) &\n",
    "    \n",
    "    (df_fillna['bounce_rate ratio (variant/control)'] != 0 ) &\n",
    "    (df_fillna['bounce_rate ratio (variant/control)'] < 1 ) &\n",
    "    (df_fillna['bounce_pvalue'] < .05)\n",
    "    \n",
    "]\n",
    "\n",
    "df_stat.iloc[list(df_fillna.index)].fillna('-')"
   ]
  },
  {
   "cell_type": "markdown",
   "metadata": {},
   "source": [
    "### variant: (better conversion rate, worse/inconclusive bounce rate)"
   ]
  },
  {
   "cell_type": "code",
   "execution_count": 132,
   "metadata": {},
   "outputs": [
    {
     "data": {
      "text/html": [
       "<div>\n",
       "<style scoped>\n",
       "    .dataframe tbody tr th:only-of-type {\n",
       "        vertical-align: middle;\n",
       "    }\n",
       "\n",
       "    .dataframe tbody tr th {\n",
       "        vertical-align: top;\n",
       "    }\n",
       "\n",
       "    .dataframe thead th {\n",
       "        text-align: right;\n",
       "    }\n",
       "</style>\n",
       "<table border=\"1\" class=\"dataframe\">\n",
       "  <thead>\n",
       "    <tr style=\"text-align: right;\">\n",
       "      <th></th>\n",
       "      <th>new_user</th>\n",
       "      <th>land</th>\n",
       "      <th>channel</th>\n",
       "      <th>conv_rate ratio (variant/control)</th>\n",
       "      <th>conv_pvalue</th>\n",
       "      <th>bounce_rate ratio (variant/control)</th>\n",
       "      <th>bounce_pvalue</th>\n",
       "    </tr>\n",
       "  </thead>\n",
       "  <tbody>\n",
       "    <tr>\n",
       "      <th>18</th>\n",
       "      <td>1</td>\n",
       "      <td>1</td>\n",
       "      <td>Affiliate</td>\n",
       "      <td>1.033099</td>\n",
       "      <td>0.006762</td>\n",
       "      <td>1.019774</td>\n",
       "      <td>3.336166e-09</td>\n",
       "    </tr>\n",
       "  </tbody>\n",
       "</table>\n",
       "</div>"
      ],
      "text/plain": [
       "    new_user  land    channel  conv_rate ratio (variant/control)  conv_pvalue  \\\n",
       "18         1     1  Affiliate                           1.033099     0.006762   \n",
       "\n",
       "    bounce_rate ratio (variant/control)  bounce_pvalue  \n",
       "18                             1.019774   3.336166e-09  "
      ]
     },
     "execution_count": 132,
     "metadata": {},
     "output_type": "execute_result"
    }
   ],
   "source": [
    "df_stat[(df_stat['conv_pvalue']<.05) & (df_stat['conv_rate ratio (variant/control)']>1)]"
   ]
  },
  {
   "cell_type": "code",
   "execution_count": 133,
   "metadata": {},
   "outputs": [
    {
     "data": {
      "text/plain": [
       "'<table border=\"1\" class=\"dataframe\">  <thead>    <tr style=\"text-align: right;\">      <th></th>      <th>new_user</th>      <th>land</th>      <th>channel</th>      <th>conv_rate ratio (variant/control)</th>      <th>conv_pvalue</th>      <th>bounce_rate ratio (variant/control)</th>      <th>bounce_pvalue</th>    </tr>  </thead>  <tbody>    <tr>      <th>18</th>      <td>1</td>      <td>1</td>      <td>Affiliate</td>      <td>1.033099</td>      <td>0.006762</td>      <td>1.019774</td>      <td>3.336166e-09</td>    </tr>  </tbody></table>'"
      ]
     },
     "execution_count": 133,
     "metadata": {},
     "output_type": "execute_result"
    }
   ],
   "source": [
    "df_stat[(df_stat['conv_pvalue']<.05) & (df_stat['conv_rate ratio (variant/control)']>1)].fillna('-').to_html().replace('\\n','')"
   ]
  },
  {
   "cell_type": "markdown",
   "metadata": {},
   "source": [
    "### need more data: conversion pvalue inconclusive"
   ]
  },
  {
   "cell_type": "code",
   "execution_count": 136,
   "metadata": {},
   "outputs": [
    {
     "data": {
      "text/html": [
       "<div>\n",
       "<style scoped>\n",
       "    .dataframe tbody tr th:only-of-type {\n",
       "        vertical-align: middle;\n",
       "    }\n",
       "\n",
       "    .dataframe tbody tr th {\n",
       "        vertical-align: top;\n",
       "    }\n",
       "\n",
       "    .dataframe thead th {\n",
       "        text-align: right;\n",
       "    }\n",
       "</style>\n",
       "<table border=\"1\" class=\"dataframe\">\n",
       "  <thead>\n",
       "    <tr style=\"text-align: right;\">\n",
       "      <th></th>\n",
       "      <th>new_user</th>\n",
       "      <th>land</th>\n",
       "      <th>channel</th>\n",
       "      <th>conv_rate ratio (variant/control)</th>\n",
       "      <th>conv_pvalue</th>\n",
       "      <th>bounce_rate ratio (variant/control)</th>\n",
       "      <th>bounce_pvalue</th>\n",
       "    </tr>\n",
       "  </thead>\n",
       "  <tbody>\n",
       "    <tr>\n",
       "      <th>0</th>\n",
       "      <td>0</td>\n",
       "      <td>0</td>\n",
       "      <td>Affiliate</td>\n",
       "      <td>1.044200</td>\n",
       "      <td>0.087256</td>\n",
       "      <td>-</td>\n",
       "      <td>-</td>\n",
       "    </tr>\n",
       "    <tr>\n",
       "      <th>2</th>\n",
       "      <td>0</td>\n",
       "      <td>0</td>\n",
       "      <td>Email</td>\n",
       "      <td>0.950100</td>\n",
       "      <td>0.136588</td>\n",
       "      <td>-</td>\n",
       "      <td>-</td>\n",
       "    </tr>\n",
       "    <tr>\n",
       "      <th>3</th>\n",
       "      <td>0</td>\n",
       "      <td>0</td>\n",
       "      <td>Paid Search</td>\n",
       "      <td>0.957468</td>\n",
       "      <td>0.166964</td>\n",
       "      <td>-</td>\n",
       "      <td>-</td>\n",
       "    </tr>\n",
       "    <tr>\n",
       "      <th>4</th>\n",
       "      <td>0</td>\n",
       "      <td>0</td>\n",
       "      <td>SEO</td>\n",
       "      <td>0.966234</td>\n",
       "      <td>0.142969</td>\n",
       "      <td>-</td>\n",
       "      <td>-</td>\n",
       "    </tr>\n",
       "    <tr>\n",
       "      <th>5</th>\n",
       "      <td>0</td>\n",
       "      <td>0</td>\n",
       "      <td>Social Media</td>\n",
       "      <td>0.950775</td>\n",
       "      <td>0.182612</td>\n",
       "      <td>-</td>\n",
       "      <td>-</td>\n",
       "    </tr>\n",
       "    <tr>\n",
       "      <th>6</th>\n",
       "      <td>1</td>\n",
       "      <td>0</td>\n",
       "      <td>Affiliate</td>\n",
       "      <td>0.977987</td>\n",
       "      <td>0.353390</td>\n",
       "      <td>-</td>\n",
       "      <td>-</td>\n",
       "    </tr>\n",
       "    <tr>\n",
       "      <th>8</th>\n",
       "      <td>1</td>\n",
       "      <td>0</td>\n",
       "      <td>Email</td>\n",
       "      <td>0.965764</td>\n",
       "      <td>0.358787</td>\n",
       "      <td>-</td>\n",
       "      <td>-</td>\n",
       "    </tr>\n",
       "    <tr>\n",
       "      <th>9</th>\n",
       "      <td>1</td>\n",
       "      <td>0</td>\n",
       "      <td>Paid Search</td>\n",
       "      <td>0.988299</td>\n",
       "      <td>0.699675</td>\n",
       "      <td>-</td>\n",
       "      <td>-</td>\n",
       "    </tr>\n",
       "    <tr>\n",
       "      <th>11</th>\n",
       "      <td>1</td>\n",
       "      <td>0</td>\n",
       "      <td>Social Media</td>\n",
       "      <td>1.050713</td>\n",
       "      <td>0.257029</td>\n",
       "      <td>-</td>\n",
       "      <td>-</td>\n",
       "    </tr>\n",
       "    <tr>\n",
       "      <th>17</th>\n",
       "      <td>0</td>\n",
       "      <td>1</td>\n",
       "      <td>Social Media</td>\n",
       "      <td>1.025623</td>\n",
       "      <td>0.285743</td>\n",
       "      <td>1.07896</td>\n",
       "      <td>5.75997e-24</td>\n",
       "    </tr>\n",
       "    <tr>\n",
       "      <th>21</th>\n",
       "      <td>1</td>\n",
       "      <td>1</td>\n",
       "      <td>Paid Search</td>\n",
       "      <td>1.013970</td>\n",
       "      <td>0.382120</td>\n",
       "      <td>1.04191</td>\n",
       "      <td>2.22148e-23</td>\n",
       "    </tr>\n",
       "    <tr>\n",
       "      <th>23</th>\n",
       "      <td>1</td>\n",
       "      <td>1</td>\n",
       "      <td>Social Media</td>\n",
       "      <td>0.990628</td>\n",
       "      <td>0.668357</td>\n",
       "      <td>0.980478</td>\n",
       "      <td>0.00132746</td>\n",
       "    </tr>\n",
       "  </tbody>\n",
       "</table>\n",
       "</div>"
      ],
      "text/plain": [
       "    new_user  land       channel  conv_rate ratio (variant/control)  \\\n",
       "0          0     0     Affiliate                           1.044200   \n",
       "2          0     0         Email                           0.950100   \n",
       "3          0     0   Paid Search                           0.957468   \n",
       "4          0     0           SEO                           0.966234   \n",
       "5          0     0  Social Media                           0.950775   \n",
       "6          1     0     Affiliate                           0.977987   \n",
       "8          1     0         Email                           0.965764   \n",
       "9          1     0   Paid Search                           0.988299   \n",
       "11         1     0  Social Media                           1.050713   \n",
       "17         0     1  Social Media                           1.025623   \n",
       "21         1     1   Paid Search                           1.013970   \n",
       "23         1     1  Social Media                           0.990628   \n",
       "\n",
       "    conv_pvalue bounce_rate ratio (variant/control) bounce_pvalue  \n",
       "0      0.087256                                   -             -  \n",
       "2      0.136588                                   -             -  \n",
       "3      0.166964                                   -             -  \n",
       "4      0.142969                                   -             -  \n",
       "5      0.182612                                   -             -  \n",
       "6      0.353390                                   -             -  \n",
       "8      0.358787                                   -             -  \n",
       "9      0.699675                                   -             -  \n",
       "11     0.257029                                   -             -  \n",
       "17     0.285743                             1.07896   5.75997e-24  \n",
       "21     0.382120                             1.04191   2.22148e-23  \n",
       "23     0.668357                            0.980478    0.00132746  "
      ]
     },
     "execution_count": 136,
     "metadata": {},
     "output_type": "execute_result"
    }
   ],
   "source": [
    "df_stat[df_stat['conv_pvalue']>.05].fillna('-')"
   ]
  },
  {
   "cell_type": "code",
   "execution_count": 135,
   "metadata": {},
   "outputs": [
    {
     "data": {
      "text/plain": [
       "'<table border=\"1\" class=\"dataframe\">  <thead>    <tr style=\"text-align: right;\">      <th></th>      <th>new_user</th>      <th>land</th>      <th>channel</th>      <th>conv_rate ratio (variant/control)</th>      <th>conv_pvalue</th>      <th>bounce_rate ratio (variant/control)</th>      <th>bounce_pvalue</th>    </tr>  </thead>  <tbody>    <tr>      <th>0</th>      <td>0</td>      <td>0</td>      <td>Affiliate</td>      <td>1.044200</td>      <td>0.087256</td>      <td>-</td>      <td>-</td>    </tr>    <tr>      <th>2</th>      <td>0</td>      <td>0</td>      <td>Email</td>      <td>0.950100</td>      <td>0.136588</td>      <td>-</td>      <td>-</td>    </tr>    <tr>      <th>3</th>      <td>0</td>      <td>0</td>      <td>Paid Search</td>      <td>0.957468</td>      <td>0.166964</td>      <td>-</td>      <td>-</td>    </tr>    <tr>      <th>4</th>      <td>0</td>      <td>0</td>      <td>SEO</td>      <td>0.966234</td>      <td>0.142969</td>      <td>-</td>      <td>-</td>    </tr>    <tr>      <th>5</th>      <td>0</td>      <td>0</td>      <td>Social Media</td>      <td>0.950775</td>      <td>0.182612</td>      <td>-</td>      <td>-</td>    </tr>    <tr>      <th>6</th>      <td>1</td>      <td>0</td>      <td>Affiliate</td>      <td>0.977987</td>      <td>0.353390</td>      <td>-</td>      <td>-</td>    </tr>    <tr>      <th>8</th>      <td>1</td>      <td>0</td>      <td>Email</td>      <td>0.965764</td>      <td>0.358787</td>      <td>-</td>      <td>-</td>    </tr>    <tr>      <th>9</th>      <td>1</td>      <td>0</td>      <td>Paid Search</td>      <td>0.988299</td>      <td>0.699675</td>      <td>-</td>      <td>-</td>    </tr>    <tr>      <th>11</th>      <td>1</td>      <td>0</td>      <td>Social Media</td>      <td>1.050713</td>      <td>0.257029</td>      <td>-</td>      <td>-</td>    </tr>    <tr>      <th>17</th>      <td>0</td>      <td>1</td>      <td>Social Media</td>      <td>1.025623</td>      <td>0.285743</td>      <td>1.07896</td>      <td>5.75997e-24</td>    </tr>    <tr>      <th>21</th>      <td>1</td>      <td>1</td>      <td>Paid Search</td>      <td>1.013970</td>      <td>0.382120</td>      <td>1.04191</td>      <td>2.22148e-23</td>    </tr>    <tr>      <th>23</th>      <td>1</td>      <td>1</td>      <td>Social Media</td>      <td>0.990628</td>      <td>0.668357</td>      <td>0.980478</td>      <td>0.00132746</td>    </tr>  </tbody></table>'"
      ]
     },
     "execution_count": 135,
     "metadata": {},
     "output_type": "execute_result"
    }
   ],
   "source": [
    "df_stat[df_stat['conv_pvalue']>.05].fillna('-').to_html().replace('\\n','')"
   ]
  }
 ],
 "metadata": {
  "kernelspec": {
   "display_name": "Python 3",
   "language": "python",
   "name": "python3"
  },
  "language_info": {
   "codemirror_mode": {
    "name": "ipython",
    "version": 3
   },
   "file_extension": ".py",
   "mimetype": "text/x-python",
   "name": "python",
   "nbconvert_exporter": "python",
   "pygments_lexer": "ipython3",
   "version": "3.7.5"
  }
 },
 "nbformat": 4,
 "nbformat_minor": 4
}
